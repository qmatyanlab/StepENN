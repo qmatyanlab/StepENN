{
 "cells": [
  {
   "cell_type": "code",
   "execution_count": 1,
   "metadata": {},
   "outputs": [
    {
     "name": "stdout",
     "output_type": "stream",
     "text": [
      "torch device: cuda:0\n",
      "data acquired\n",
      "Loading existing data...\n",
      "(1525, 201, 6)\n",
      "1\n"
     ]
    },
    {
     "name": "stderr",
     "output_type": "stream",
     "text": [
      "100%|██████████| 1525/1525 [00:22<00:00, 67.71it/s]\n"
     ]
    }
   ],
   "source": [
    "import os\n",
    "import sys\n",
    "\n",
    "# Get the absolute path of the current notebook's directory\n",
    "notebook_dir = os.getcwd()\n",
    "parent_dir = os.path.abspath(os.path.join(notebook_dir, \"..\"))\n",
    "sys.path.append(parent_dir)  # Add parent directory to sys.path\n",
    "\n",
    "# model\n",
    "import torch\n",
    "import torch.nn as nn\n",
    "import torch.nn.functional as F\n",
    "import torch_geometric as tg\n",
    "import torch_scatter\n",
    "import e3nn\n",
    "from e3nn import o3\n",
    "from typing import Dict, Union\n",
    "\n",
    "# crystal structure data\n",
    "from ase import Atom, Atoms\n",
    "from ase.neighborlist import neighbor_list\n",
    "from ase.visualize.plot import plot_atoms\n",
    "palette = ['#43AA8B', '#F8961E', '#F94144']\n",
    "sub = str.maketrans(\"0123456789\", \"₀₁₂₃₄₅₆₇₈₉\")\n",
    "\n",
    "# data pre-processing and visualization\n",
    "import numpy as np\n",
    "import matplotlib as mpl\n",
    "import matplotlib.pyplot as plt\n",
    "from matplotlib.lines import Line2D\n",
    "import seaborn as sns\n",
    "from mpl_toolkits.axes_grid1.inset_locator import inset_axes\n",
    "import pandas as pd\n",
    "from scipy.interpolate import interp1d\n",
    "import math\n",
    "import e3nn.o3 as o3\n",
    "from e3nn.util.jit import compile_mode\n",
    "from e3nn.io import CartesianTensor\n",
    "from e3nn.o3 import wigner_D, so3_generators\n",
    "\n",
    "# supress error log from font\n",
    "import logging\n",
    "logging.getLogger('matplotlib.font_manager').setLevel(level=logging.CRITICAL)\n",
    "# utilities\n",
    "import time\n",
    "from mendeleev import element\n",
    "from tqdm import tqdm\n",
    "from utils.utils_data import (load_data, train_valid_test_split, plot_example, plot_predictions, weighted_mean, r2_score, save_or_load_onehot, build_data)\n",
    "# from utils.utils_model import Network, visualize_layers, train, evaluate\n",
    "from utils.utils_model_full_tensor import Network, visualize_layers, train, evaluate\n",
    "\n",
    "# from utils.dielectric_utils import cart2realsphvec\n",
    "\n",
    "bar_format = '{l_bar}{bar:10}{r_bar}{bar:-10b}'\n",
    "default_dtype = torch.float64\n",
    "torch.set_default_dtype(default_dtype)\n",
    "\n",
    "# Create a colormap based on the number of unique symbols\n",
    "datasets = ['g', 'y', 'r']\n",
    "colors = dict(zip(datasets, palette))\n",
    "cmap = mpl.colors.LinearSegmentedColormap.from_list('cmap', [palette[k] for k in [0,2,1]])\n",
    "\n",
    "\n",
    "# Check device\n",
    "device = \"cuda:0\" if torch.cuda.is_available() else \"cpu\"\n",
    "print('torch device:' , device)\n",
    "\n",
    "## load data\n",
    "data_file = '../dataset/openmx_data_20250312_105926.pkl'\n",
    "df, species = load_data(data_file)\n",
    "df = df.reset_index(drop=True)\n",
    "\n",
    "print('data acquired')\n",
    "\n",
    "\n",
    "\n",
    "energy_min = 0 #Unit of energy in eV\n",
    "energy_max = 20 #Unit of energy in eV\n",
    "nstep = 201 #Number of the energy points\n",
    "\n",
    "new_x = np.linspace(energy_min, energy_max, nstep)\n",
    "# Efficiently interpolate all matrices using list comprehension\n",
    "def interpolate_matrix(matrix, omega):\n",
    "    \"\"\"Interpolates the full (3001, 3, 3) matrix along the energy axis.\"\"\"\n",
    "    interp = interp1d(omega, matrix, kind='linear', axis=0, fill_value=0, bounds_error=False)\n",
    "    return interp(new_x)  # Shape: (201, 3, 3)\n",
    "\n",
    "\n",
    "# Apply interpolation efficiently\n",
    "df['real_Permittivity_Matrices_interp'] = [\n",
    "    interpolate_matrix(row['real_Permittivity_Matrices'], row['omega']) for _, row in df.iterrows()\n",
    "]\n",
    "\n",
    "# Apply the custom function to create a new column\n",
    "df['energies_interp'] = df.apply(lambda x: new_x, axis=1)\n",
    "\n",
    "perm_matrices_tensor = torch.tensor(np.stack(df['real_Permittivity_Matrices_interp'].values), dtype=torch.float64, device=device)\n",
    "\n",
    "# Transform Cartesian tensor to irreps\n",
    "x = CartesianTensor(\"ij=ji\")  # Symmetric rank-2 tensor\n",
    "sph_coefs_tensor = x.from_cartesian(perm_matrices_tensor)  # Shape: (num_samples, 201, 6)\n",
    "\n",
    "df['sph_coefs'] = list(sph_coefs_tensor.cpu().numpy())  # Move to CPU and store as list\n",
    "\n",
    "\n",
    "## Processed atom feature\n",
    "def process_atom(Z):\n",
    "    \"\"\"Process atomic properties for an element.\"\"\"\n",
    "    specie = Atom(Z)\n",
    "    Z_mass = specie.mass\n",
    "    Z_dipole = element(specie.symbol).dipole_polarizability or 67.0\n",
    "    Z_radius = element(specie.symbol).covalent_radius_pyykko\n",
    "    return specie.symbol, Z - 1, Z_mass, Z_dipole, Z_radius\n",
    "\n",
    "\n",
    "type_onehot, mass_onehot, dipole_onehot, radius_onehot, type_encoding = save_or_load_onehot()\n",
    "\n",
    "# Find the scaling value\n",
    "tmp = np.array([df.iloc[i]['sph_coefs'] for i in range(len(df))])\n",
    "print(tmp.shape)\n",
    "# mean_data = np.mean(np.max(tmp, axis=1))\n",
    "# std_data = np.std(np.max(tmp, axis=1))\n",
    "# print(mean_data)\n",
    "# print(std_data) \n",
    "# scale_data = np.median(np.max(tmp, axis=1))\n",
    "scale_data = 1\n",
    "print(scale_data)\n",
    "\n",
    "\n",
    "r_max = 6. # cutoff radius\n",
    "df['data'] = df.progress_apply(lambda x: build_data(x, 'sph_coefs', scale_data, type_onehot, mass_onehot, dipole_onehot, radius_onehot, type_encoding, r_max), axis=1)\n"
   ]
  },
  {
   "cell_type": "code",
   "execution_count": 7,
   "metadata": {},
   "outputs": [
    {
     "data": {
      "text/plain": [
       "Data(edge_index=[2, 528], y=[1, 201, 6], pos=[16, 3], lattice=[1, 3, 3], symbol=[16], x_mass=[16, 118], x_dipole=[16, 118], x_radius=[16, 118], z=[16, 118], edge_shift=[528, 3], edge_vec=[528, 3], edge_len=[528])"
      ]
     },
     "execution_count": 7,
     "metadata": {},
     "output_type": "execute_result"
    }
   ],
   "source": [
    "df[\"data\"].iloc[0]"
   ]
  },
  {
   "cell_type": "code",
   "execution_count": 3,
   "metadata": {},
   "outputs": [
    {
     "name": "stdout",
     "output_type": "stream",
     "text": [
      "split train/dev ...\n"
     ]
    },
    {
     "name": "stderr",
     "output_type": "stream",
     "text": [
      "  0%|          | 0/68 [00:00<?, ?it/s]"
     ]
    },
    {
     "name": "stderr",
     "output_type": "stream",
     "text": [
      "100%|██████████| 68/68 [00:00<00:00, 732.58it/s]\n"
     ]
    },
    {
     "name": "stdout",
     "output_type": "stream",
     "text": [
      "split valid/test ...\n"
     ]
    },
    {
     "name": "stderr",
     "output_type": "stream",
     "text": [
      "100%|██████████| 65/65 [00:00<00:00, 997.53it/s]"
     ]
    },
    {
     "name": "stdout",
     "output_type": "stream",
     "text": [
      "number of training examples: 1214\n",
      "number of validation examples: 143\n",
      "number of testing examples: 168\n",
      "total number of examples: 1525\n"
     ]
    },
    {
     "name": "stderr",
     "output_type": "stream",
     "text": [
      "\n"
     ]
    },
    {
     "data": {
      "image/png": "[encoded data removed]",
      "text/plain": [
       "<Figure size 1400x700 with 2 Axes>"
      ]
     },
     "metadata": {},
     "output_type": "display_data"
    }
   ],
   "source": [
    "run_time = time.strftime('%y%m%d', time.localtime())\n",
    "# train/valid/test split\n",
    "idx_train, idx_valid, idx_test = train_valid_test_split(df, species, valid_size=.1, test_size=.1, seed=12, plot=True)\n",
    "#Save train loss values sets\n",
    "np.savetxt('../model/idx_train_'+ run_time +'.txt', idx_train, fmt='%i', delimiter='\\t')\n",
    "np.savetxt('../model/idx_valid_'+ run_time +'.txt', idx_valid, fmt='%i', delimiter='\\t')\n",
    "np.savetxt('../model/idx_test_'+ run_time +'.txt', idx_test, fmt='%i', delimiter='\\t')\n",
    "# load train/valid/test indices\n",
    "with open('../model/idx_train_'+run_time+'.txt', 'r') as f: idx_train = [int(i.split('\\n')[0]) for i in f.readlines()]\n",
    "with open('../model/idx_valid_'+run_time+'.txt', 'r') as f: idx_valid = [int(i.split('\\n')[0]) for i in f.readlines()]\n",
    "with open('../model/idx_test_'+run_time+'.txt', 'r') as f: idx_test = [int(i.split('\\n')[0]) for i in f.readlines()]\n",
    "\n",
    "# format dataloaders\n",
    "batch_size = 1\n",
    "dataloader_train = tg.loader.DataLoader(df.iloc[idx_train]['data'].values, batch_size=batch_size, shuffle=True)\n",
    "dataloader_valid = tg.loader.DataLoader(df.iloc[idx_valid]['data'].values, batch_size=batch_size)\n",
    "dataloader_test = tg.loader.DataLoader(df.iloc[idx_test]['data'].values, batch_size=batch_size)\n",
    "\n",
    "def get_neighbors(df, idx):\n",
    "    n = []\n",
    "    for entry in df.iloc[idx].itertuples():\n",
    "        N = entry.data.pos.shape[0]\n",
    "        for i in range(N):\n",
    "            n.append(len((entry.data.edge_index[0] == i).nonzero()))\n",
    "    return np.array(n)\n",
    "\n",
    "n_train = get_neighbors(df, idx_train)\n",
    "n_valid = get_neighbors(df, idx_valid)\n",
    "n_test = get_neighbors(df, idx_test)"
   ]
  },
  {
   "cell_type": "code",
   "execution_count": 4,
   "metadata": {},
   "outputs": [],
   "source": [
    "## NN part\n",
    "class MixingLinear(nn.Module):\n",
    "    def __init__(self, in_feature, out_feature):\n",
    "        super(MixingLinear, self).__init__()\n",
    "        self.in_feature = in_feature\n",
    "        self.out_feature = out_feature\n",
    "        self.weight = nn.Parameter(torch.Tensor(self.out_feature, self.in_feature))\n",
    "        self.reset_parameters()\n",
    "\n",
    "    def reset_parameters(self):\n",
    "        nn.init.kaiming_uniform_(self.weight, a=5**0.5)\n",
    "\n",
    "    def forward(self, x):\n",
    "        weight = torch.abs(self.weight)/(torch.sum(torch.abs(self.weight), dim=1, keepdim=True)+1e-10)\n",
    "        return F.linear(x, weight)\n",
    "class PeriodicNetwork(Network):\n",
    "    def __init__(self, in_dim, em_dim, **kwargs):            \n",
    "        # override the `reduce_output` keyword to instead perform an averge over atom contributions    \n",
    "        self.pool = False\n",
    "        if kwargs['reduce_output'] == True:\n",
    "            kwargs['reduce_output'] = False\n",
    "            self.pool = True\n",
    "            \n",
    "        super().__init__(**kwargs)\n",
    "\n",
    "        # embed the one-hot encoding\n",
    "        self.em_type = nn.Linear(in_dim, em_dim)    #Linear layer for atom type\n",
    "        self.em_mass = nn.Linear(in_dim, em_dim)    #Linear layer for atom mass\n",
    "        self.em_dipole = nn.Linear(in_dim, em_dim)  #Linear layer for atom dipole polarizability\n",
    "        self.em_radius = nn.Linear(in_dim, em_dim)  #Linear layer for atom covalent radius\n",
    "        self.em_mixing = MixingLinear(3, 1)            #Linear layer for mixing the atom features (mass, dipole, radius)\n",
    "\n",
    "    def forward(self, data: Union[tg.data.Data, Dict[str, torch.Tensor]]) -> torch.Tensor:\n",
    "        data.z = F.relu(self.em_type(data.z))\n",
    "        data.x_mass = F.relu(self.em_mass(data.x_mass))\n",
    "        data.x_dipole = F.relu(self.em_dipole(data.x_dipole))\n",
    "        data.x_radius = F.relu(self.em_radius(data.x_radius))\n",
    "        tmp = torch.stack([data.x_mass, data.x_dipole, data.x_radius], dim=0)      # stack the atom features in shape (3, N, em_dim) \n",
    "        tmp2 = torch.permute(tmp, (1, 2, 0))                                       # permute the tensor to (N, em_dim, 3)\n",
    "        data.x = torch.permute(self.em_mixing(tmp2),(2, 0, 1)).reshape(-1, em_dim) # reshape the tensor to (N, em_dim)\n",
    "        output = super().forward(data)\n",
    "        # ReLu for last convolution will force output positive value, if output have negative value, it step should be neglected\n",
    "        #output = torch.relu(output)\n",
    "        \n",
    "        # if pool_nodes was set to True, use scatter_mean to aggregate\n",
    "        if self.pool == True:\n",
    "            output = torch_scatter.scatter_mean(output, data.batch, dim=0)  # take mean over atoms per example\n",
    "            # output = torch_scatter.scatter_add(output, data.batch, dim=0)  # take mean over atoms per example\n",
    "            # output, _ = torch_scatter.scatter_max(output, data.batch, dim=0)  # max over atoms per examples\n",
    "\n",
    "        # normalization output from 0 to 1\n",
    "        # maxima, _ = torch.max(output, dim=1)\n",
    "        # output = output.div(maxima.unsqueeze(1))\n",
    "        return output\n",
    "\n",
    "out_dim = len(df.iloc[0]['energies_interp'])      # about 200 points\n",
    "em_dim = 64\n",
    "\n",
    "model = PeriodicNetwork(\n",
    "    in_dim=118,                            # dimension of one-hot encoding of atom type\n",
    "    em_dim=em_dim,                         # dimension of atom-type embedding\n",
    "    irreps_in=str(em_dim)+\"x0e\",           # em_dim scalars (L=0 and even parity) on each atom to represent atom type\n",
    "    irreps_out=str(out_dim)+\"x0e +\" +  str(out_dim) + \"x2e\",         # out_dim scalars (L=0 and even parity) to output\n",
    "    irreps_node_attr=str(em_dim)+\"x0e\",    # em_dim scalars (L=0 and even parity) on each atom to represent atom type\n",
    "    layers=2,                              # number of nonlinearities (number of convolutions = layers + 1)\n",
    "    mul=32,                                # multiplicity of irreducible representations\n",
    "    lmax=2,                                # maximum order of spherical harmonics\n",
    "    max_radius=r_max,                      # cutoff radius for convolution\n",
    "    num_neighbors=n_train.mean(),          # scaling factor based on the typical number of neighbors\n",
    "    reduce_output=True                     # whether or not to aggregate features of all atoms at the end\n",
    ")"
   ]
  },
  {
   "cell_type": "code",
   "execution_count": 5,
   "metadata": {},
   "outputs": [
    {
     "name": "stdout",
     "output_type": "stream",
     "text": [
      "Total parameters: 8720827\n",
      "Trainable parameters: 8720827\n",
      "layers.0.first.sc.weight: torch.Size([393216]) requires_grad=True\n",
      "layers.0.first.lin1.weight: torch.Size([262144]) requires_grad=True\n",
      "layers.0.first.fc.layer0.weight: torch.Size([10, 100]) requires_grad=True\n",
      "layers.0.first.fc.layer1.weight: torch.Size([100, 192]) requires_grad=True\n",
      "layers.0.first.lin2.weight: torch.Size([655360]) requires_grad=True\n",
      "layers.1.first.sc.weight: torch.Size([458752]) requires_grad=True\n",
      "layers.1.first.lin1.weight: torch.Size([196608]) requires_grad=True\n",
      "layers.1.first.fc.layer0.weight: torch.Size([10, 100]) requires_grad=True\n",
      "layers.1.first.fc.layer1.weight: torch.Size([100, 480]) requires_grad=True\n",
      "layers.1.first.lin2.weight: torch.Size([1769472]) requires_grad=True\n",
      "layers.2.sc.weight: torch.Size([823296]) requires_grad=True\n",
      "layers.2.lin1.weight: torch.Size([327680]) requires_grad=True\n",
      "layers.2.fc.layer0.weight: torch.Size([10, 100]) requires_grad=True\n",
      "layers.2.fc.layer1.weight: torch.Size([100, 288]) requires_grad=True\n",
      "layers.2.lin2.weight: torch.Size([3704832]) requires_grad=True\n",
      "em_type.weight: torch.Size([64, 118]) requires_grad=True\n",
      "em_type.bias: torch.Size([64]) requires_grad=True\n",
      "em_mass.weight: torch.Size([64, 118]) requires_grad=True\n",
      "em_mass.bias: torch.Size([64]) requires_grad=True\n",
      "em_dipole.weight: torch.Size([64, 118]) requires_grad=True\n",
      "em_dipole.bias: torch.Size([64]) requires_grad=True\n",
      "em_radius.weight: torch.Size([64, 118]) requires_grad=True\n",
      "em_radius.bias: torch.Size([64]) requires_grad=True\n",
      "em_mixing.weight: torch.Size([1, 3]) requires_grad=True\n",
      "irreps_2e 1005\n",
      "out_dim 201\n"
     ]
    },
    {
     "name": "stderr",
     "output_type": "stream",
     "text": [
      "  0%|          | 0/1214 [00:00<?, ?it/s]"
     ]
    },
    {
     "name": "stdout",
     "output_type": "stream",
     "text": [
      "torch.Size([1, 1206])\n",
      "torch.Size([1, 1005])\n"
     ]
    },
    {
     "name": "stderr",
     "output_type": "stream",
     "text": [
      "\n"
     ]
    },
    {
     "ename": "AttributeError",
     "evalue": "'GlobalStorage' object has no attribute 'sph_coefs'",
     "output_type": "error",
     "traceback": [
      "\u001b[0;31m---------------------------------------------------------------------------\u001b[0m",
      "\u001b[0;31mAttributeError\u001b[0m                            Traceback (most recent call last)",
      "Cell \u001b[0;32mIn[5], line 19\u001b[0m\n\u001b[1;32m     17\u001b[0m loss_fn \u001b[38;5;241m=\u001b[39m torch\u001b[38;5;241m.\u001b[39mnn\u001b[38;5;241m.\u001b[39mMSELoss()\n\u001b[1;32m     18\u001b[0m loss_fn_mae \u001b[38;5;241m=\u001b[39m torch\u001b[38;5;241m.\u001b[39mnn\u001b[38;5;241m.\u001b[39mL1Loss()\n\u001b[0;32m---> 19\u001b[0m \u001b[43mtrain\u001b[49m\u001b[43m(\u001b[49m\u001b[43mmodel\u001b[49m\u001b[43m,\u001b[49m\u001b[43m \u001b[49m\u001b[43mopt\u001b[49m\u001b[43m,\u001b[49m\u001b[43m \u001b[49m\u001b[43mdataloader_train\u001b[49m\u001b[43m,\u001b[49m\u001b[43m \u001b[49m\u001b[43mdataloader_valid\u001b[49m\u001b[43m,\u001b[49m\u001b[43m \u001b[49m\u001b[43mloss_fn\u001b[49m\u001b[43m,\u001b[49m\u001b[43m \u001b[49m\u001b[43mloss_fn_mae\u001b[49m\u001b[43m,\u001b[49m\u001b[43m \u001b[49m\u001b[43mrun_name\u001b[49m\u001b[43m,\u001b[49m\u001b[43m \u001b[49m\u001b[43mmax_iter\u001b[49m\u001b[38;5;241;43m=\u001b[39;49m\u001b[38;5;241;43m5\u001b[39;49m\u001b[43m,\u001b[49m\u001b[43m \u001b[49m\u001b[43mscheduler\u001b[49m\u001b[38;5;241;43m=\u001b[39;49m\u001b[43mscheduler\u001b[49m\u001b[43m,\u001b[49m\u001b[43m \u001b[49m\u001b[43mdevice\u001b[49m\u001b[38;5;241;43m=\u001b[39;49m\u001b[43mdevice\u001b[49m\u001b[43m)\u001b[49m\n\u001b[1;32m     22\u001b[0m \u001b[38;5;66;03m# Output MSE.txt\u001b[39;00m\n\u001b[1;32m     23\u001b[0m history \u001b[38;5;241m=\u001b[39m torch\u001b[38;5;241m.\u001b[39mload(\u001b[38;5;124m'\u001b[39m\u001b[38;5;124m../model/\u001b[39m\u001b[38;5;124m'\u001b[39m \u001b[38;5;241m+\u001b[39m run_name \u001b[38;5;241m+\u001b[39m \u001b[38;5;124m'\u001b[39m\u001b[38;5;124m.torch\u001b[39m\u001b[38;5;124m'\u001b[39m, map_location\u001b[38;5;241m=\u001b[39mdevice)[\u001b[38;5;124m'\u001b[39m\u001b[38;5;124mhistory\u001b[39m\u001b[38;5;124m'\u001b[39m]\n",
      "File \u001b[0;32m~/dielectric_tensor_predict/utils/utils_model_full_tensor.py:360\u001b[0m, in \u001b[0;36mtrain\u001b[0;34m(model, optimizer, dataloader_train, dataloader_valid, loss_fn, loss_fn_mae, run_name, max_iter, scheduler, device)\u001b[0m\n\u001b[1;32m    357\u001b[0m output_0e \u001b[38;5;241m=\u001b[39m output[:, :irreps_0e]  \u001b[38;5;66;03m# Shape: (batch_size, irreps_0e)\u001b[39;00m\n\u001b[1;32m    358\u001b[0m output_2e \u001b[38;5;241m=\u001b[39m output[:, irreps_0e:irreps_0e \u001b[38;5;241m+\u001b[39m irreps_2e]\u001b[38;5;241m.\u001b[39mcontiguous()\u001b[38;5;241m.\u001b[39mview(output\u001b[38;5;241m.\u001b[39mshape[\u001b[38;5;241m0\u001b[39m], out_dim, \u001b[38;5;241m5\u001b[39m)  \u001b[38;5;66;03m# Shape: (batch_size, 201, 5)\u001b[39;00m\n\u001b[0;32m--> 360\u001b[0m \u001b[38;5;28mprint\u001b[39m(\u001b[43md\u001b[49m\u001b[38;5;241;43m.\u001b[39;49m\u001b[43msph_coefs\u001b[49m\u001b[38;5;241m.\u001b[39mshape)  \u001b[38;5;66;03m# Expect (4, ?, ?)\u001b[39;00m\n\u001b[1;32m    361\u001b[0m \u001b[38;5;28mprint\u001b[39m(d\u001b[38;5;241m.\u001b[39msph_coefs[:, \u001b[38;5;241m1\u001b[39m:, :]\u001b[38;5;241m.\u001b[39mshape)  \u001b[38;5;66;03m# Expect (4, 201, 1005)\u001b[39;00m\n\u001b[1;32m    362\u001b[0m \u001b[38;5;66;03m# Split target `d.sph_coefs` into 0e and 2e components\u001b[39;00m\n",
      "File \u001b[0;32m~/miniconda3/envs/pytorch_env/lib/python3.11/site-packages/torch_geometric/data/data.py:559\u001b[0m, in \u001b[0;36mData.__getattr__\u001b[0;34m(self, key)\u001b[0m\n\u001b[1;32m    553\u001b[0m \u001b[38;5;28;01mif\u001b[39;00m \u001b[38;5;124m'\u001b[39m\u001b[38;5;124m_store\u001b[39m\u001b[38;5;124m'\u001b[39m \u001b[38;5;129;01mnot\u001b[39;00m \u001b[38;5;129;01min\u001b[39;00m \u001b[38;5;28mself\u001b[39m\u001b[38;5;241m.\u001b[39m\u001b[38;5;18m__dict__\u001b[39m:\n\u001b[1;32m    554\u001b[0m     \u001b[38;5;28;01mraise\u001b[39;00m \u001b[38;5;167;01mRuntimeError\u001b[39;00m(\n\u001b[1;32m    555\u001b[0m         \u001b[38;5;124m\"\u001b[39m\u001b[38;5;124mThe \u001b[39m\u001b[38;5;124m'\u001b[39m\u001b[38;5;124mdata\u001b[39m\u001b[38;5;124m'\u001b[39m\u001b[38;5;124m object was created by an older version of PyG. \u001b[39m\u001b[38;5;124m\"\u001b[39m\n\u001b[1;32m    556\u001b[0m         \u001b[38;5;124m\"\u001b[39m\u001b[38;5;124mIf this error occurred while loading an already existing \u001b[39m\u001b[38;5;124m\"\u001b[39m\n\u001b[1;32m    557\u001b[0m         \u001b[38;5;124m\"\u001b[39m\u001b[38;5;124mdataset, remove the \u001b[39m\u001b[38;5;124m'\u001b[39m\u001b[38;5;124mprocessed/\u001b[39m\u001b[38;5;124m'\u001b[39m\u001b[38;5;124m directory in the dataset\u001b[39m\u001b[38;5;124m'\u001b[39m\u001b[38;5;124ms \u001b[39m\u001b[38;5;124m\"\u001b[39m\n\u001b[1;32m    558\u001b[0m         \u001b[38;5;124m\"\u001b[39m\u001b[38;5;124mroot folder and try again.\u001b[39m\u001b[38;5;124m\"\u001b[39m)\n\u001b[0;32m--> 559\u001b[0m \u001b[38;5;28;01mreturn\u001b[39;00m \u001b[38;5;28mgetattr\u001b[39m(\u001b[38;5;28mself\u001b[39m\u001b[38;5;241m.\u001b[39m_store, key)\n",
      "File \u001b[0;32m~/miniconda3/envs/pytorch_env/lib/python3.11/site-packages/torch_geometric/data/storage.py:96\u001b[0m, in \u001b[0;36mBaseStorage.__getattr__\u001b[0;34m(self, key)\u001b[0m\n\u001b[1;32m     94\u001b[0m     \u001b[38;5;28;01mreturn\u001b[39;00m \u001b[38;5;28mself\u001b[39m[key]\n\u001b[1;32m     95\u001b[0m \u001b[38;5;28;01mexcept\u001b[39;00m \u001b[38;5;167;01mKeyError\u001b[39;00m:\n\u001b[0;32m---> 96\u001b[0m     \u001b[38;5;28;01mraise\u001b[39;00m \u001b[38;5;167;01mAttributeError\u001b[39;00m(\n\u001b[1;32m     97\u001b[0m         \u001b[38;5;124mf\u001b[39m\u001b[38;5;124m\"\u001b[39m\u001b[38;5;124m'\u001b[39m\u001b[38;5;132;01m{\u001b[39;00m\u001b[38;5;28mself\u001b[39m\u001b[38;5;241m.\u001b[39m\u001b[38;5;18m__class__\u001b[39m\u001b[38;5;241m.\u001b[39m\u001b[38;5;18m__name__\u001b[39m\u001b[38;5;132;01m}\u001b[39;00m\u001b[38;5;124m'\u001b[39m\u001b[38;5;124m object has no attribute \u001b[39m\u001b[38;5;124m'\u001b[39m\u001b[38;5;132;01m{\u001b[39;00mkey\u001b[38;5;132;01m}\u001b[39;00m\u001b[38;5;124m'\u001b[39m\u001b[38;5;124m\"\u001b[39m\n\u001b[1;32m     98\u001b[0m     ) \u001b[38;5;28;01mfrom\u001b[39;00m\u001b[38;5;250m \u001b[39m\u001b[38;5;28;01mNone\u001b[39;00m\n",
      "\u001b[0;31mAttributeError\u001b[0m: 'GlobalStorage' object has no attribute 'sph_coefs'"
     ]
    }
   ],
   "source": [
    "model.to(device)\n",
    "\n",
    "total_params = sum(param.numel() for param in model.parameters())\n",
    "trainable_params = sum(param.numel() for param in model.parameters() if param.requires_grad)\n",
    "\n",
    "print(f\"Total parameters: {total_params}\")\n",
    "print(f\"Trainable parameters: {trainable_params}\")\n",
    "\n",
    "for name, param in model.named_parameters():\n",
    "    print(f\"{name}: {param.shape} requires_grad={param.requires_grad}\")\n",
    "    \n",
    "run_name = 'model_re_sph_coefs_' + run_time\n",
    "opt = torch.optim.AdamW(model.parameters(), lr=5e-3, weight_decay=0.05)\n",
    "scheduler = torch.optim.lr_scheduler.ExponentialLR(opt, gamma=0.96)\n",
    "\n",
    "#loss_fn = torch.nn.HuberLoss()\n",
    "loss_fn = torch.nn.MSELoss()\n",
    "loss_fn_mae = torch.nn.L1Loss()\n",
    "train(model, opt, dataloader_train, dataloader_valid, loss_fn, loss_fn_mae, run_name, max_iter=5, scheduler=scheduler, device=device)\n",
    "\n",
    "\n",
    "# Output MSE.txt\n",
    "history = torch.load('../model/' + run_name + '.torch', map_location=device)['history']\n",
    "steps = [d['step'] + 1 for d in history]\n",
    "loss_train = [d['train']['loss'] for d in history]\n",
    "loss_valid = [d['valid']['loss'] for d in history]\n",
    "# np.savetxt(run_name+'_MSE_loss.txt', np.column_stack((steps, loss_train, loss_valid)), fmt='%.8f', delimiter='\\t')\n",
    "fig, ax = plt.subplots(figsize=(4,4))\n",
    "ax.plot(steps, loss_train, 'o-', label=\"Training\", color='C0')\n",
    "ax.plot(steps, loss_valid, 'o-', label=\"Validation\", color='C3')\n",
    "ax.set_xlabel('Epochs')\n",
    "ax.set_ylabel('Loss')\n",
    "ax.legend(frameon=False)\n",
    "plt.tight_layout()\n",
    "save_pdf_dir = \"../pdfs\"\n",
    "save_path = os.path.join(save_pdf_dir, run_name + '_loss.pdf')\n",
    "fig.savefig(save_path)"
   ]
  },
  {
   "cell_type": "code",
   "execution_count": null,
   "metadata": {},
   "outputs": [],
   "source": []
  }
 ],
 "metadata": {
  "kernelspec": {
   "display_name": "pytorch_env",
   "language": "python",
   "name": "python3"
  },
  "language_info": {
   "codemirror_mode": {
    "name": "ipython",
    "version": 3
   },
   "file_extension": ".py",
   "mimetype": "text/x-python",
   "name": "python",
   "nbconvert_exporter": "python",
   "pygments_lexer": "ipython3",
   "version": "3.11.11"
  }
 },
 "nbformat": 4,
 "nbformat_minor": 2
}
